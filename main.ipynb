{
 "cells": [
  {
   "cell_type": "code",
   "execution_count": 2,
   "metadata": {},
   "outputs": [
    {
     "data": {
      "text/html": [
       "<div>\n",
       "<style scoped>\n",
       "    .dataframe tbody tr th:only-of-type {\n",
       "        vertical-align: middle;\n",
       "    }\n",
       "\n",
       "    .dataframe tbody tr th {\n",
       "        vertical-align: top;\n",
       "    }\n",
       "\n",
       "    .dataframe thead th {\n",
       "        text-align: right;\n",
       "    }\n",
       "</style>\n",
       "<table border=\"1\" class=\"dataframe\">\n",
       "  <thead>\n",
       "    <tr style=\"text-align: right;\">\n",
       "      <th></th>\n",
       "      <th>num</th>\n",
       "      <th>cputime_dif</th>\n",
       "      <th>depth</th>\n",
       "      <th>high</th>\n",
       "      <th>image</th>\n",
       "      <th>tension</th>\n",
       "      <th>time</th>\n",
       "      <th>velocity</th>\n",
       "      <th>volume</th>\n",
       "      <th>weld_velocity</th>\n",
       "      <th>width</th>\n",
       "      <th>wire_l</th>\n",
       "    </tr>\n",
       "  </thead>\n",
       "  <tbody>\n",
       "    <tr>\n",
       "      <th>0</th>\n",
       "      <td>0</td>\n",
       "      <td>0.109213</td>\n",
       "      <td>-2.612515</td>\n",
       "      <td>2.251549</td>\n",
       "      <td>4482.0</td>\n",
       "      <td>20.0</td>\n",
       "      <td>2.614</td>\n",
       "      <td>5.5</td>\n",
       "      <td>0.704238</td>\n",
       "      <td>8.0</td>\n",
       "      <td>4.850269</td>\n",
       "      <td>15.0</td>\n",
       "    </tr>\n",
       "    <tr>\n",
       "      <th>1</th>\n",
       "      <td>1</td>\n",
       "      <td>0.113643</td>\n",
       "      <td>-2.568461</td>\n",
       "      <td>2.261362</td>\n",
       "      <td>4497.0</td>\n",
       "      <td>20.0</td>\n",
       "      <td>2.629</td>\n",
       "      <td>5.5</td>\n",
       "      <td>0.093257</td>\n",
       "      <td>8.0</td>\n",
       "      <td>5.014591</td>\n",
       "      <td>15.0</td>\n",
       "    </tr>\n",
       "    <tr>\n",
       "      <th>2</th>\n",
       "      <td>2</td>\n",
       "      <td>0.187733</td>\n",
       "      <td>-2.284407</td>\n",
       "      <td>2.307767</td>\n",
       "      <td>5361.0</td>\n",
       "      <td>20.0</td>\n",
       "      <td>3.493</td>\n",
       "      <td>5.5</td>\n",
       "      <td>5.371661</td>\n",
       "      <td>8.0</td>\n",
       "      <td>6.496406</td>\n",
       "      <td>15.0</td>\n",
       "    </tr>\n",
       "    <tr>\n",
       "      <th>3</th>\n",
       "      <td>3</td>\n",
       "      <td>0.124918</td>\n",
       "      <td>-2.072830</td>\n",
       "      <td>2.291701</td>\n",
       "      <td>5433.0</td>\n",
       "      <td>20.0</td>\n",
       "      <td>3.565</td>\n",
       "      <td>5.5</td>\n",
       "      <td>0.447639</td>\n",
       "      <td>8.0</td>\n",
       "      <td>7.534782</td>\n",
       "      <td>15.0</td>\n",
       "    </tr>\n",
       "    <tr>\n",
       "      <th>4</th>\n",
       "      <td>4</td>\n",
       "      <td>0.110063</td>\n",
       "      <td>-2.497762</td>\n",
       "      <td>2.195335</td>\n",
       "      <td>6325.0</td>\n",
       "      <td>20.0</td>\n",
       "      <td>4.457</td>\n",
       "      <td>5.5</td>\n",
       "      <td>5.545741</td>\n",
       "      <td>8.0</td>\n",
       "      <td>7.738949</td>\n",
       "      <td>15.0</td>\n",
       "    </tr>\n",
       "  </tbody>\n",
       "</table>\n",
       "</div>"
      ],
      "text/plain": [
       "   num  cputime_dif     depth      high   image  tension   time  velocity  \\\n",
       "0    0     0.109213 -2.612515  2.251549  4482.0     20.0  2.614       5.5   \n",
       "1    1     0.113643 -2.568461  2.261362  4497.0     20.0  2.629       5.5   \n",
       "2    2     0.187733 -2.284407  2.307767  5361.0     20.0  3.493       5.5   \n",
       "3    3     0.124918 -2.072830  2.291701  5433.0     20.0  3.565       5.5   \n",
       "4    4     0.110063 -2.497762  2.195335  6325.0     20.0  4.457       5.5   \n",
       "\n",
       "     volume  weld_velocity     width  wire_l  \n",
       "0  0.704238            8.0  4.850269    15.0  \n",
       "1  0.093257            8.0  5.014591    15.0  \n",
       "2  5.371661            8.0  6.496406    15.0  \n",
       "3  0.447639            8.0  7.534782    15.0  \n",
       "4  5.545741            8.0  7.738949    15.0  "
      ]
     },
     "execution_count": 2,
     "metadata": {},
     "output_type": "execute_result"
    }
   ],
   "source": [
    "import pandas as pd \n",
    "import numpy as np\n",
    "\n",
    "import tensorflow as tf \n",
    "from tensorflow.keras import *\n",
    "from tensorflow.keras.layers import *\n",
    "\n",
    "df = pd.read_csv(\n",
    "    './aws_a5_1_all.csv'\n",
    ")\n",
    "\n",
    "df.head()"
   ]
  },
  {
   "cell_type": "code",
   "execution_count": 3,
   "metadata": {},
   "outputs": [
    {
     "data": {
      "text/plain": [
       "array([[-2.61251488,  2.25154901, 20.        , ...,  8.        ,\n",
       "         4.85026926, 15.        ],\n",
       "       [-2.56846062,  2.26136213, 20.        , ...,  8.        ,\n",
       "         5.01459088, 15.        ],\n",
       "       [-2.28440721,  2.30776663, 20.        , ...,  8.        ,\n",
       "         6.49640607, 15.        ],\n",
       "       ...,\n",
       "       [-3.09060336,  0.05518935, 29.        , ..., 12.        ,\n",
       "         5.40717952, 13.6       ],\n",
       "       [-3.09060336,  0.05518935, 29.        , ..., 12.        ,\n",
       "         5.40717952, 15.        ],\n",
       "       [-3.09058904,  0.05518909, 29.        , ..., 12.        ,\n",
       "         5.40714196, 15.        ]])"
      ]
     },
     "execution_count": 3,
     "metadata": {},
     "output_type": "execute_result"
    }
   ],
   "source": [
    "features = np.array(df[['depth' , 'high' , 'tension' , 'velocity' , 'volume' , 'weld_velocity' , 'width' , 'wire_l']])\n",
    "labels = np.array(df.pop('depth'))\n",
    "\n",
    "features"
   ]
  },
  {
   "cell_type": "code",
   "execution_count": 4,
   "metadata": {},
   "outputs": [
    {
     "name": "stdout",
     "output_type": "stream",
     "text": [
      "(<tf.Tensor: shape=(8,), dtype=float64, numpy=\n",
      "array([-2.61251488,  2.25154901, 20.        ,  5.5       ,  0.7042383 ,\n",
      "        8.        ,  4.85026926, 15.        ])>, <tf.Tensor: shape=(), dtype=float64, numpy=-2.612514882967101>)\n",
      "(<tf.Tensor: shape=(8,), dtype=float64, numpy=\n",
      "array([-2.56846062,  2.26136213, 20.        ,  5.5       ,  0.09325717,\n",
      "        8.        ,  5.01459088, 15.        ])>, <tf.Tensor: shape=(), dtype=float64, numpy=-2.5684606173793463>)\n",
      "(<tf.Tensor: shape=(8,), dtype=float64, numpy=\n",
      "array([-2.28440721,  2.30776663, 20.        ,  5.5       ,  5.37166119,\n",
      "        8.        ,  6.49640607, 15.        ])>, <tf.Tensor: shape=(), dtype=float64, numpy=-2.284407206321464>)\n"
     ]
    }
   ],
   "source": [
    "numeric_dataset = tf.data.Dataset.from_tensor_slices((features, labels))\n",
    "\n",
    "for row in numeric_dataset.take(3):\n",
    "    print(row)"
   ]
  },
  {
   "cell_type": "code",
   "execution_count": 5,
   "metadata": {},
   "outputs": [
    {
     "data": {
      "text/plain": [
       "array([-2.57594384,  1.17014343, 28.27534791,  6.60735586,  0.83287074,\n",
       "        9.5387674 ,  6.60738607, 13.73389776])"
      ]
     },
     "execution_count": 5,
     "metadata": {},
     "output_type": "execute_result"
    }
   ],
   "source": [
    "mean = np.mean(features , axis=0)\n",
    "mean"
   ]
  },
  {
   "cell_type": "code",
   "execution_count": 6,
   "metadata": {},
   "outputs": [],
   "source": [
    "standard = np.std(features , axis= 0)"
   ]
  },
  {
   "cell_type": "code",
   "execution_count": 7,
   "metadata": {},
   "outputs": [
    {
     "data": {
      "text/plain": [
       "array([[-2.61251488,  2.25154901, 20.        , ...,  8.        ,\n",
       "         4.85026926, 15.        ],\n",
       "       [-2.56846062,  2.26136213, 20.        , ...,  8.        ,\n",
       "         5.01459088, 15.        ],\n",
       "       [-2.28440721,  2.30776663, 20.        , ...,  8.        ,\n",
       "         6.49640607, 15.        ],\n",
       "       ...,\n",
       "       [-3.09060336,  0.05518935, 29.        , ..., 12.        ,\n",
       "         5.40717952, 13.6       ],\n",
       "       [-3.09060336,  0.05518935, 29.        , ..., 12.        ,\n",
       "         5.40717952, 15.        ],\n",
       "       [-3.09058904,  0.05518909, 29.        , ..., 12.        ,\n",
       "         5.40714196, 15.        ]])"
      ]
     },
     "execution_count": 7,
     "metadata": {},
     "output_type": "execute_result"
    }
   ],
   "source": [
    "features"
   ]
  },
  {
   "cell_type": "code",
   "execution_count": 8,
   "metadata": {},
   "outputs": [],
   "source": [
    "def normalize(data , label) :\n",
    "    return (data - mean) / standard , label\n",
    "\n",
    "x_test = numeric_dataset.take(10)\n",
    "\n",
    "numeric_batches = numeric_dataset.shuffle(1000).batch(4)\n",
    "numeric_batches = numeric_batches.map(normalize)"
   ]
  },
  {
   "cell_type": "code",
   "execution_count": 9,
   "metadata": {},
   "outputs": [
    {
     "name": "stdout",
     "output_type": "stream",
     "text": [
      "Epoch 1/10\n",
      "WARNING:tensorflow:Layer dense is casting an input tensor from dtype float64 to the layer's dtype of float32, which is new behavior in TensorFlow 2.  The layer has dtype float32 because its dtype defaults to floatx.\n",
      "\n",
      "If you intended to run this layer in float32, you can safely ignore this warning. If in doubt, this warning is likely only an issue if you are porting a TensorFlow 1.X model to TensorFlow 2.\n",
      "\n",
      "To change all layers to have dtype float64 by default, call `tf.keras.backend.set_floatx('float64')`. To change just this layer, pass dtype='float64' to the layer constructor. If you are the author of this layer, you can disable autocasting by passing autocast=False to the base Layer constructor.\n",
      "\n",
      "252/252 [==============================] - 1s 3ms/step - loss: 3.3678 - mean_squared_error: 3.3678\n",
      "Epoch 2/10\n",
      "252/252 [==============================] - 1s 3ms/step - loss: 0.2459 - mean_squared_error: 0.2459\n",
      "Epoch 3/10\n",
      "252/252 [==============================] - 1s 3ms/step - loss: 0.0303 - mean_squared_error: 0.0303\n",
      "Epoch 4/10\n",
      "252/252 [==============================] - 1s 3ms/step - loss: 0.0163 - mean_squared_error: 0.0163\n",
      "Epoch 5/10\n",
      "252/252 [==============================] - 0s 2ms/step - loss: 0.0124 - mean_squared_error: 0.0124\n",
      "Epoch 6/10\n",
      "252/252 [==============================] - 0s 2ms/step - loss: 0.0098 - mean_squared_error: 0.0098\n",
      "Epoch 7/10\n",
      "252/252 [==============================] - 0s 2ms/step - loss: 0.0079 - mean_squared_error: 0.0079\n",
      "Epoch 8/10\n",
      "252/252 [==============================] - 0s 2ms/step - loss: 0.0066 - mean_squared_error: 0.0066\n",
      "Epoch 9/10\n",
      "252/252 [==============================] - 0s 2ms/step - loss: 0.0056 - mean_squared_error: 0.0056\n",
      "Epoch 10/10\n",
      "252/252 [==============================] - 0s 2ms/step - loss: 0.0048 - mean_squared_error: 0.0048\n"
     ]
    },
    {
     "data": {
      "text/plain": [
       "<tensorflow.python.keras.callbacks.History at 0x2150012dd88>"
      ]
     },
     "execution_count": 9,
     "metadata": {},
     "output_type": "execute_result"
    }
   ],
   "source": [
    "def get_basic_model():\n",
    "  model = tf.keras.Sequential([\n",
    "    tf.keras.layers.Dense(10, activation='tanh'),\n",
    "    tf.keras.layers.Dense(10, activation='tanh'),\n",
    "    tf.keras.layers.Dense(1)\n",
    "  ])\n",
    "\n",
    "  model.compile(optimizer= optimizers.Adam() ,\n",
    "                loss= losses.mean_squared_error ,\n",
    "                metrics= [metrics.MeanSquaredError()])\n",
    "  return model\n",
    "\n",
    "model = get_basic_model()\n",
    "\n",
    "model.fit(numeric_batches , batch_size=4 , epochs=10)"
   ]
  },
  {
   "cell_type": "code",
   "execution_count": 10,
   "metadata": {},
   "outputs": [
    {
     "data": {
      "text/plain": [
       "array([[-2.3642116]], dtype=float32)"
      ]
     },
     "execution_count": 10,
     "metadata": {},
     "output_type": "execute_result"
    }
   ],
   "source": [
    "test = (np.array([[-2.61251488,  2.25154901, 20.,5.5,0.7042383 ,8.,4.85026926, 15.]]) - mean) / standard\n",
    "model.predict(test)"
   ]
  },
  {
   "cell_type": "code",
   "execution_count": 14,
   "metadata": {},
   "outputs": [],
   "source": [
    "x_test = x_test.map(normalize)"
   ]
  },
  {
   "cell_type": "code",
   "execution_count": 15,
   "metadata": {},
   "outputs": [],
   "source": [
    "x , y = [] , []\n",
    "\n",
    "for u , v in x_test.as_numpy_iterator() :\n",
    "    x.append(u)\n",
    "    y.append(v)\n",
    "\n",
    "x = np.array(x)\n",
    "y = np.array(y)"
   ]
  },
  {
   "cell_type": "code",
   "execution_count": 16,
   "metadata": {},
   "outputs": [
    {
     "name": "stdout",
     "output_type": "stream",
     "text": [
      "1/1 [==============================] - 0s 2ms/step - loss: 0.0190 - mean_squared_error: 0.0190\n"
     ]
    },
    {
     "data": {
      "text/plain": [
       "[0.018959669396281242, 0.018959669396281242]"
      ]
     },
     "execution_count": 16,
     "metadata": {},
     "output_type": "execute_result"
    }
   ],
   "source": [
    "model.evaluate(x , y)"
   ]
  }
 ],
 "metadata": {
  "interpreter": {
   "hash": "e85f75776599a8ebfaa396aeafa1b309f01128056a194aa5a0fe5ddb388d1f40"
  },
  "kernelspec": {
   "display_name": "Python 3.7.10 64-bit ('Tensorflow': conda)",
   "name": "python3"
  },
  "language_info": {
   "codemirror_mode": {
    "name": "ipython",
    "version": 3
   },
   "file_extension": ".py",
   "mimetype": "text/x-python",
   "name": "python",
   "nbconvert_exporter": "python",
   "pygments_lexer": "ipython3",
   "version": "3.7.10"
  },
  "orig_nbformat": 4
 },
 "nbformat": 4,
 "nbformat_minor": 2
}
